{
 "cells": [
  {
   "cell_type": "markdown",
   "metadata": {
    "pycharm": {
     "name": "#%% md\n"
    }
   },
   "source": [
    "# Proyecto minería de datos MyAnimeList"
   ]
  },
  {
   "cell_type": "markdown",
   "metadata": {
    "pycharm": {
     "name": "#%% md\n"
    }
   },
   "source": [
    "**Autores** Fernando Martínez, Luz Pichintines y Camila Muñoz\n",
    "**Fecha** 29 de Junio, 2022"
   ]
  },
  {
   "cell_type": "markdown",
   "metadata": {
    "pycharm": {
     "name": "#%% md\n"
    }
   },
   "source": [
    "# Motivación y problemática"
   ]
  },
  {
   "cell_type": "markdown",
   "metadata": {
    "pycharm": {
     "name": "#%% md\n"
    }
   },
   "source": [
    "Hoy en día la comunidad del anime en Chile ha crecido notablemente, por ello las empresas de series de televisión están interesadas en estas series originarias de Japón, para así abarcar el mercado del anime. Pero, ¿cómo saben ellos qué series tener en su repertorio?, como cada vez están saliendo más series de anime, el mercado está algo competitivo y puede llegar a crear un dilema a la hora de escoger una serie para ver, destacando que hay demasiadas categorías para clasificarlas.\n",
    "\n",
    "A pesar de lo masivo que puede verse el consumo de anime en Chile, su inicio fue bastante tímido, ya que, no existía la posibilidad de acceder a mucho contenido proveniente de Japón. Luis Perilla, antropólogo, en su investigación llamada Otakus en Chile (2009), detalla cómo fueron los orígenes: “Se origina en los años 70 con la proliferación de series de dibujos animados japoneses en Chile (Tales como Candy, Mazinger Z, Marco, entre otras)k, continuadas por los más recientes éxitos televisivos (Sailon Moon, Dragon ball Z, Caballeros del Zodiaco, Pokemon, Samurai X, entre otros)”.\n",
    "\n",
    "El streaming explotó en 2020 y la competencia entre los gigantes por el negocio es total, en todo el mundo se vio un auge importante durante la pandemia de la televisión de pago y ha crecido como la espuma en los últimos años. Sabemos que cada vez hay más opciones donde escoger, por eso una de la plataformas de streaming Funimation, siendo una empresa estadounidense que se especializa en la distribución de contenido extranjero, en particular en el anime, nos solicitó un estudio preliminar para que su nuevo equipo encargado de la categoría (anime) que desean lanzar prontamente pueda decidir qué series nuevas de anime pueden tener en cuenta para añadir a su plataforma,su objetivo es atraer a más audiencia, por ello, decidimos aceptar la propuesta y ayudar a la empresa a cumplir su meta. Nuestra motivación para realizar este trabajo es\n",
    "\n",
    "Decidimos empezar con una exploración de los datos que nos ayudará a hacer un primer acercamiento con el dataset que trabajaremos a lo largo de este estudio, para conocer sus variables, tipo de datos, si hay variables que aportan información relevante para la problemática a resolver y finalmente vamos a dejar planteado unas preguntas que nos dará la idea de cómo manejar los datos que tenemos y definir la línea de trabajo que tomaremos.\n",
    "\n",
    "Nuestra motivación es crear una aplicación que pueda recomendar series, documentales y películas de cualquier tipo automáticamente, basándose en las características que elijan los usuarios. Por esto, queremos realizar este análisis de datos y esperar a realizar un trabajo útil, para implementarlo en nuestro propio proyecto."
   ]
  },
  {
   "cell_type": "markdown",
   "metadata": {
    "pycharm": {
     "name": "#%% md\n"
    }
   },
   "source": [
    "# Selección del dataset y preprocesamiento de datos"
   ]
  },
  {
   "cell_type": "markdown",
   "source": [
    "Se realiza un preprocesamiento de los datos con el fin de prepararlo para aplicar técnicas de exploración y el modelo predictivo."
   ],
   "metadata": {
    "collapsed": false,
    "pycharm": {
     "name": "#%% md\n"
    }
   }
  },
  {
   "cell_type": "markdown",
   "metadata": {
    "pycharm": {
     "name": "#%% md\n"
    }
   },
   "source": [
    "Cargarmos las librerías y el dataset."
   ]
  },
  {
   "cell_type": "code",
   "execution_count": 410,
   "metadata": {
    "pycharm": {
     "name": "#%%\n"
    }
   },
   "outputs": [
    {
     "data": {
      "text/plain": "   anime_id                title              title_english title_japanese  \\\n0     11013        Inu x Boku SS  Inu X Boku Secret Service         妖狐×僕SS   \n1      2104     Seto no Hanayome      My Bride is a Mermaid          瀬戸の花嫁   \n2      5262   Shugo Chara!! Doki         Shugo Chara!! Doki    しゅごキャラ！！どきっ   \n3       721        Princess Tutu              Princess Tutu      プリンセスチュチュ   \n4     12365  Bakuman. 3rd Season                   Bakuman.          バクマン。   \n\n                                  title_synonyms  \\\n0                                Youko x Boku SS   \n1                           The Inland Sea Bride   \n2  Shugo Chara Ninenme, Shugo Chara! Second Year   \n3                                            NaN   \n4                               Bakuman Season 3   \n\n                                           image_url type    source  episodes  \\\n0  https://myanimelist.cdn-dena.com/images/anime/...   TV     Manga        12   \n1  https://myanimelist.cdn-dena.com/images/anime/...   TV     Manga        26   \n2  https://myanimelist.cdn-dena.com/images/anime/...   TV     Manga        51   \n3  https://myanimelist.cdn-dena.com/images/anime/...   TV  Original        38   \n4  https://myanimelist.cdn-dena.com/images/anime/...   TV     Manga        25   \n\n            status  ...                                         background  \\\n0  Finished Airing  ...  Inu x Boku SS was licensed by Sentai Filmworks...   \n1  Finished Airing  ...                                                NaN   \n2  Finished Airing  ...                                                NaN   \n3  Finished Airing  ...  Princess Tutu aired in two parts. The first pa...   \n4  Finished Airing  ...                                                NaN   \n\n     premiered           broadcast  \\\n0  Winter 2012  Fridays at Unknown   \n1  Spring 2007             Unknown   \n2    Fall 2008             Unknown   \n3  Summer 2002  Fridays at Unknown   \n4    Fall 2012             Unknown   \n\n                                             related  \\\n0  {'Adaptation': [{'mal_id': 17207, 'type': 'man...   \n1  {'Adaptation': [{'mal_id': 759, 'type': 'manga...   \n2  {'Adaptation': [{'mal_id': 101, 'type': 'manga...   \n3  {'Adaptation': [{'mal_id': 1581, 'type': 'mang...   \n4  {'Adaptation': [{'mal_id': 9711, 'type': 'mang...   \n\n                                            producer          licensor  \\\n0  Aniplex, Square Enix, Mainichi Broadcasting Sy...  Sentai Filmworks   \n1                  TV Tokyo, AIC, Square Enix, Sotsu        Funimation   \n2                                    TV Tokyo, Sotsu               NaN   \n3                 Memory-Tech, GANSIS, Marvelous AQL         ADV Films   \n4                                      NHK, Shueisha               NaN   \n\n             studio                                     genre  \\\n0  David Production    Comedy, Supernatural, Romance, Shounen   \n1             Gonzo  Comedy, Parody, Romance, School, Shounen   \n2         Satelight             Comedy, Magic, School, Shoujo   \n3    Hal Film Maker    Comedy, Drama, Magic, Romance, Fantasy   \n4         J.C.Staff           Comedy, Drama, Romance, Shounen   \n\n                                       opening_theme  \\\n0                              ['\"Nirvana\" by MUCC']   \n1                 ['\"Romantic summer\" by SUN&LUNAR']   \n2  ['#1: \"Minna no Tamago (みんなのたまご)\" by Shugo Cha...   \n3             ['\"Morning Grace\" by Ritsuko Okazaki']   \n4  ['#1: \"Moshimo no Hanashi (もしもの話)\" by nano.RIP...   \n\n                                        ending_theme  \n0  ['#1: \"Nirvana\" by MUCC (eps 1, 11-12)', '#2: ...  \n1  ['#1: \"Ashita e no Hikari (明日への光)\" by Asuka Hi...  \n2  ['#1: \"Rottara Rottara (ロッタラ ロッタラ)\" by Buono! ...  \n3  ['\"Watashi No Ai Wa Chiisaikeredo\" by Ritsuko ...  \n4  ['#1: \"Pride on Everyday\" by Sphere (eps 1-13)...  \n\n[5 rows x 31 columns]",
      "text/html": "<div>\n<style scoped>\n    .dataframe tbody tr th:only-of-type {\n        vertical-align: middle;\n    }\n\n    .dataframe tbody tr th {\n        vertical-align: top;\n    }\n\n    .dataframe thead th {\n        text-align: right;\n    }\n</style>\n<table border=\"1\" class=\"dataframe\">\n  <thead>\n    <tr style=\"text-align: right;\">\n      <th></th>\n      <th>anime_id</th>\n      <th>title</th>\n      <th>title_english</th>\n      <th>title_japanese</th>\n      <th>title_synonyms</th>\n      <th>image_url</th>\n      <th>type</th>\n      <th>source</th>\n      <th>episodes</th>\n      <th>status</th>\n      <th>...</th>\n      <th>background</th>\n      <th>premiered</th>\n      <th>broadcast</th>\n      <th>related</th>\n      <th>producer</th>\n      <th>licensor</th>\n      <th>studio</th>\n      <th>genre</th>\n      <th>opening_theme</th>\n      <th>ending_theme</th>\n    </tr>\n  </thead>\n  <tbody>\n    <tr>\n      <th>0</th>\n      <td>11013</td>\n      <td>Inu x Boku SS</td>\n      <td>Inu X Boku Secret Service</td>\n      <td>妖狐×僕SS</td>\n      <td>Youko x Boku SS</td>\n      <td>https://myanimelist.cdn-dena.com/images/anime/...</td>\n      <td>TV</td>\n      <td>Manga</td>\n      <td>12</td>\n      <td>Finished Airing</td>\n      <td>...</td>\n      <td>Inu x Boku SS was licensed by Sentai Filmworks...</td>\n      <td>Winter 2012</td>\n      <td>Fridays at Unknown</td>\n      <td>{'Adaptation': [{'mal_id': 17207, 'type': 'man...</td>\n      <td>Aniplex, Square Enix, Mainichi Broadcasting Sy...</td>\n      <td>Sentai Filmworks</td>\n      <td>David Production</td>\n      <td>Comedy, Supernatural, Romance, Shounen</td>\n      <td>['\"Nirvana\" by MUCC']</td>\n      <td>['#1: \"Nirvana\" by MUCC (eps 1, 11-12)', '#2: ...</td>\n    </tr>\n    <tr>\n      <th>1</th>\n      <td>2104</td>\n      <td>Seto no Hanayome</td>\n      <td>My Bride is a Mermaid</td>\n      <td>瀬戸の花嫁</td>\n      <td>The Inland Sea Bride</td>\n      <td>https://myanimelist.cdn-dena.com/images/anime/...</td>\n      <td>TV</td>\n      <td>Manga</td>\n      <td>26</td>\n      <td>Finished Airing</td>\n      <td>...</td>\n      <td>NaN</td>\n      <td>Spring 2007</td>\n      <td>Unknown</td>\n      <td>{'Adaptation': [{'mal_id': 759, 'type': 'manga...</td>\n      <td>TV Tokyo, AIC, Square Enix, Sotsu</td>\n      <td>Funimation</td>\n      <td>Gonzo</td>\n      <td>Comedy, Parody, Romance, School, Shounen</td>\n      <td>['\"Romantic summer\" by SUN&amp;LUNAR']</td>\n      <td>['#1: \"Ashita e no Hikari (明日への光)\" by Asuka Hi...</td>\n    </tr>\n    <tr>\n      <th>2</th>\n      <td>5262</td>\n      <td>Shugo Chara!! Doki</td>\n      <td>Shugo Chara!! Doki</td>\n      <td>しゅごキャラ！！どきっ</td>\n      <td>Shugo Chara Ninenme, Shugo Chara! Second Year</td>\n      <td>https://myanimelist.cdn-dena.com/images/anime/...</td>\n      <td>TV</td>\n      <td>Manga</td>\n      <td>51</td>\n      <td>Finished Airing</td>\n      <td>...</td>\n      <td>NaN</td>\n      <td>Fall 2008</td>\n      <td>Unknown</td>\n      <td>{'Adaptation': [{'mal_id': 101, 'type': 'manga...</td>\n      <td>TV Tokyo, Sotsu</td>\n      <td>NaN</td>\n      <td>Satelight</td>\n      <td>Comedy, Magic, School, Shoujo</td>\n      <td>['#1: \"Minna no Tamago (みんなのたまご)\" by Shugo Cha...</td>\n      <td>['#1: \"Rottara Rottara (ロッタラ ロッタラ)\" by Buono! ...</td>\n    </tr>\n    <tr>\n      <th>3</th>\n      <td>721</td>\n      <td>Princess Tutu</td>\n      <td>Princess Tutu</td>\n      <td>プリンセスチュチュ</td>\n      <td>NaN</td>\n      <td>https://myanimelist.cdn-dena.com/images/anime/...</td>\n      <td>TV</td>\n      <td>Original</td>\n      <td>38</td>\n      <td>Finished Airing</td>\n      <td>...</td>\n      <td>Princess Tutu aired in two parts. The first pa...</td>\n      <td>Summer 2002</td>\n      <td>Fridays at Unknown</td>\n      <td>{'Adaptation': [{'mal_id': 1581, 'type': 'mang...</td>\n      <td>Memory-Tech, GANSIS, Marvelous AQL</td>\n      <td>ADV Films</td>\n      <td>Hal Film Maker</td>\n      <td>Comedy, Drama, Magic, Romance, Fantasy</td>\n      <td>['\"Morning Grace\" by Ritsuko Okazaki']</td>\n      <td>['\"Watashi No Ai Wa Chiisaikeredo\" by Ritsuko ...</td>\n    </tr>\n    <tr>\n      <th>4</th>\n      <td>12365</td>\n      <td>Bakuman. 3rd Season</td>\n      <td>Bakuman.</td>\n      <td>バクマン。</td>\n      <td>Bakuman Season 3</td>\n      <td>https://myanimelist.cdn-dena.com/images/anime/...</td>\n      <td>TV</td>\n      <td>Manga</td>\n      <td>25</td>\n      <td>Finished Airing</td>\n      <td>...</td>\n      <td>NaN</td>\n      <td>Fall 2012</td>\n      <td>Unknown</td>\n      <td>{'Adaptation': [{'mal_id': 9711, 'type': 'mang...</td>\n      <td>NHK, Shueisha</td>\n      <td>NaN</td>\n      <td>J.C.Staff</td>\n      <td>Comedy, Drama, Romance, Shounen</td>\n      <td>['#1: \"Moshimo no Hanashi (もしもの話)\" by nano.RIP...</td>\n      <td>['#1: \"Pride on Everyday\" by Sphere (eps 1-13)...</td>\n    </tr>\n  </tbody>\n</table>\n<p>5 rows × 31 columns</p>\n</div>"
     },
     "execution_count": 410,
     "metadata": {},
     "output_type": "execute_result"
    }
   ],
   "source": [
    "# Importamos las librerías necesarias para realizar esta exploración\n",
    "import pandas as pd\n",
    "import numpy as np\n",
    "import matplotlib.pyplot as plt\n",
    "import seaborn as sns\n",
    "from sklearn.preprocessing import LabelBinarizer\n",
    "from sklearn.model_selection import train_test_split\n",
    "from sklearn.tree import DecisionTreeRegressor\n",
    "from sklearn.metrics import mean_absolute_error\n",
    "from sklearn.metrics import accuracy_score\n",
    "import plotly.express as px\n",
    "\n",
    "# Creamos un dataframe de variable df al cual le asignamos la función que lee nuestro csv y lo mostramos.\n",
    "df = pd.read_csv(\"https://gitlab.com/f.martinez09/proyecto-mal/-/raw/master/data/AnimeList.csv\", sep=\",\")\n",
    "df.head()"
   ]
  },
  {
   "cell_type": "code",
   "execution_count": 411,
   "metadata": {
    "pycharm": {
     "name": "#%%\n"
    }
   },
   "outputs": [
    {
     "data": {
      "text/plain": "(14478, 31)"
     },
     "execution_count": 411,
     "metadata": {},
     "output_type": "execute_result"
    }
   ],
   "source": [
    "# Realizamos una consulta a la dimensionalidad del dataset.\n",
    "df.shape"
   ]
  },
  {
   "cell_type": "code",
   "execution_count": 412,
   "metadata": {
    "pycharm": {
     "name": "#%%\n"
    }
   },
   "outputs": [
    {
     "data": {
      "text/plain": "Index(['anime_id', 'title', 'title_english', 'title_japanese',\n       'title_synonyms', 'image_url', 'type', 'source', 'episodes', 'status',\n       'airing', 'aired_string', 'aired', 'duration', 'rating', 'score',\n       'scored_by', 'rank', 'popularity', 'members', 'favorites', 'background',\n       'premiered', 'broadcast', 'related', 'producer', 'licensor', 'studio',\n       'genre', 'opening_theme', 'ending_theme'],\n      dtype='object')"
     },
     "execution_count": 412,
     "metadata": {},
     "output_type": "execute_result"
    }
   ],
   "source": [
    "# Realizamos una consulta a los nombres de los atributos.\n",
    "df.columns"
   ]
  },
  {
   "cell_type": "code",
   "execution_count": 413,
   "metadata": {
    "pycharm": {
     "name": "#%%\n"
    }
   },
   "outputs": [
    {
     "data": {
      "text/plain": "anime_id                                                      32772\ntitle                                        Puzzle & Dragons Cross\ntitle_english                                    Puzzle & Dragons X\ntitle_japanese                                              パズドラクロス\ntitle_synonyms                                       PazuDora Cross\nimage_url         https://myanimelist.cdn-dena.com/images/anime/...\ntype                                                             TV\nsource                                                         Game\nepisodes                                                         89\nstatus                                              Finished Airing\nairing                                                        False\naired_string                            Jul 4, 2016 to Mar 26, 2018\naired                    {'from': '2016-07-04', 'to': '2018-03-26'}\nduration                                            24 min. per ep.\nrating                                    PG-13 - Teens 13 or older\nscore                                                          6.81\nscored_by                                                       457\nrank                                                         4287.0\npopularity                                                     4565\nmembers                                                        5920\nfavorites                                                        25\nbackground                                                      NaN\npremiered                                               Summer 2016\nbroadcast                                    Mondays at 18:25 (JST)\nrelated           {'Character': [{'mal_id': 35745, 'type': 'anim...\nproducer                                           Audio Planning U\nlicensor                                                 Funimation\nstudio                                               Studio Pierrot\ngenre                                                    Game, Kids\nopening_theme     ['#1: \"WE ARE GO\" by UVERworld (eps 1-26)', '#...\nending_theme      ['#1: \"ColorFULLCombo!\" (カラーFULLコンボ！) by Shior...\nName: 7000, dtype: object"
     },
     "execution_count": 413,
     "metadata": {},
     "output_type": "execute_result"
    }
   ],
   "source": [
    "# Verificamos el contenido del dataset en una fila cualquiera, en este caso la 7000.\n",
    "df.loc[7000]"
   ]
  },
  {
   "cell_type": "code",
   "execution_count": 414,
   "metadata": {
    "pycharm": {
     "name": "#%%\n"
    }
   },
   "outputs": [
    {
     "name": "stdout",
     "output_type": "stream",
     "text": [
      "<class 'pandas.core.frame.DataFrame'>\n",
      "RangeIndex: 14478 entries, 0 to 14477\n",
      "Data columns (total 31 columns):\n",
      " #   Column          Non-Null Count  Dtype  \n",
      "---  ------          --------------  -----  \n",
      " 0   anime_id        14478 non-null  int64  \n",
      " 1   title           14478 non-null  object \n",
      " 2   title_english   5724 non-null   object \n",
      " 3   title_japanese  14443 non-null  object \n",
      " 4   title_synonyms  8937 non-null   object \n",
      " 5   image_url       14382 non-null  object \n",
      " 6   type            14478 non-null  object \n",
      " 7   source          14478 non-null  object \n",
      " 8   episodes        14478 non-null  int64  \n",
      " 9   status          14478 non-null  object \n",
      " 10  airing          14478 non-null  bool   \n",
      " 11  aired_string    14478 non-null  object \n",
      " 12  aired           14478 non-null  object \n",
      " 13  duration        14478 non-null  object \n",
      " 14  rating          14478 non-null  object \n",
      " 15  score           14478 non-null  float64\n",
      " 16  scored_by       14478 non-null  int64  \n",
      " 17  rank            12904 non-null  float64\n",
      " 18  popularity      14478 non-null  int64  \n",
      " 19  members         14478 non-null  int64  \n",
      " 20  favorites       14478 non-null  int64  \n",
      " 21  background      1057 non-null   object \n",
      " 22  premiered       4096 non-null   object \n",
      " 23  broadcast       4271 non-null   object \n",
      " 24  related         14478 non-null  object \n",
      " 25  producer        8288 non-null   object \n",
      " 26  licensor        3373 non-null   object \n",
      " 27  studio          8544 non-null   object \n",
      " 28  genre           14414 non-null  object \n",
      " 29  opening_theme   14478 non-null  object \n",
      " 30  ending_theme    14478 non-null  object \n",
      "dtypes: bool(1), float64(2), int64(6), object(22)\n",
      "memory usage: 3.3+ MB\n"
     ]
    }
   ],
   "source": [
    "# Visualizamos qué tipo de variables posee el dataset.\n",
    "df.info()"
   ]
  },
  {
   "cell_type": "markdown",
   "source": [
    "Tenemos en total 31 atributos, para ayudarnos realizamos un diccionario para saber qué variables son de interés.\n",
    "\n",
    "**Diccionario**\n",
    "\n",
    "- anime_id: identificador del anime\n",
    "- title: título del anime\n",
    "- title_english: título del anime en inglés\n",
    "- title_japanese: título del anime en japonés\n",
    "- title_synonyms: título del anime con sinonimos\n",
    "- image_url: dirección url de la imagen de la portada del anime\n",
    "- type: tipo; puede ser tv, ova, movie.\n",
    "- source: fuente; puede ser original, manga, music, book\n",
    "- episodes: cantidad de episodios\n",
    "- status: si continúa en emisión\n",
    "- airing: booleano que indica si el anime está en emisión o no\n",
    "- aired_string\n",
    "- aired: fechas de emisión\n",
    "- duration: duración del anime\n",
    "- rating: calificación de edad\n",
    "- score: puntuación\n",
    "- scored_by\n",
    "- rank: ranking\n",
    "- popularity: popularidad\n",
    "- members: cantidad de seguidores\n",
    "- favorites: cantidad de favoritos\n",
    "- background\n",
    "- premiered\n",
    "- broadcast\n",
    "- related\n",
    "- producer\n",
    "- licensor\n",
    "- studio\n",
    "- genre: géneros\n",
    "- opening_theme\n",
    "- ending_theme"
   ],
   "metadata": {
    "collapsed": false,
    "pycharm": {
     "name": "#%% md\n"
    }
   }
  },
  {
   "cell_type": "markdown",
   "metadata": {
    "pycharm": {
     "name": "#%% md\n"
    }
   },
   "source": [
    "# Análisis exploratorio de datos"
   ]
  },
  {
   "cell_type": "markdown",
   "metadata": {
    "pycharm": {
     "name": "#%% md\n"
    }
   },
   "source": [
    "Teniendo preparado nuestro dataset y ya habiendo escogido los atributos de valor, procedemos a realizar una exploración para comprender su naturaleza y extraer información.\n",
    "Luego, transformaremos los datos y plantearemos una meta de predicción.\n",
    "\n",
    "Los atributos de interés son\n",
    "- type\n",
    "- source\n",
    "- episodes\n",
    "- airing\n",
    "- duration\n",
    "- score\n",
    "- rank\n",
    "- popularity\n",
    "- genre\n",
    "\n",
    "Creamos un dataset nuevo con estos atributos."
   ]
  },
  {
   "cell_type": "code",
   "execution_count": 415,
   "metadata": {
    "pycharm": {
     "name": "#%%\n"
    }
   },
   "outputs": [
    {
     "data": {
      "text/plain": "  type    source  episodes  airing         duration  score    rank  \\\n0   TV     Manga        12   False  24 min. per ep.   7.63  1274.0   \n1   TV     Manga        26   False  24 min. per ep.   7.89   727.0   \n2   TV     Manga        51   False  24 min. per ep.   7.55  1508.0   \n3   TV  Original        38   False  16 min. per ep.   8.21   307.0   \n4   TV     Manga        25   False  24 min. per ep.   8.67    50.0   \n\n   popularity                                     genre  \n0         231    Comedy, Supernatural, Romance, Shounen  \n1         366  Comedy, Parody, Romance, School, Shounen  \n2        1173             Comedy, Magic, School, Shoujo  \n3         916    Comedy, Drama, Magic, Romance, Fantasy  \n4         426           Comedy, Drama, Romance, Shounen  ",
      "text/html": "<div>\n<style scoped>\n    .dataframe tbody tr th:only-of-type {\n        vertical-align: middle;\n    }\n\n    .dataframe tbody tr th {\n        vertical-align: top;\n    }\n\n    .dataframe thead th {\n        text-align: right;\n    }\n</style>\n<table border=\"1\" class=\"dataframe\">\n  <thead>\n    <tr style=\"text-align: right;\">\n      <th></th>\n      <th>type</th>\n      <th>source</th>\n      <th>episodes</th>\n      <th>airing</th>\n      <th>duration</th>\n      <th>score</th>\n      <th>rank</th>\n      <th>popularity</th>\n      <th>genre</th>\n    </tr>\n  </thead>\n  <tbody>\n    <tr>\n      <th>0</th>\n      <td>TV</td>\n      <td>Manga</td>\n      <td>12</td>\n      <td>False</td>\n      <td>24 min. per ep.</td>\n      <td>7.63</td>\n      <td>1274.0</td>\n      <td>231</td>\n      <td>Comedy, Supernatural, Romance, Shounen</td>\n    </tr>\n    <tr>\n      <th>1</th>\n      <td>TV</td>\n      <td>Manga</td>\n      <td>26</td>\n      <td>False</td>\n      <td>24 min. per ep.</td>\n      <td>7.89</td>\n      <td>727.0</td>\n      <td>366</td>\n      <td>Comedy, Parody, Romance, School, Shounen</td>\n    </tr>\n    <tr>\n      <th>2</th>\n      <td>TV</td>\n      <td>Manga</td>\n      <td>51</td>\n      <td>False</td>\n      <td>24 min. per ep.</td>\n      <td>7.55</td>\n      <td>1508.0</td>\n      <td>1173</td>\n      <td>Comedy, Magic, School, Shoujo</td>\n    </tr>\n    <tr>\n      <th>3</th>\n      <td>TV</td>\n      <td>Original</td>\n      <td>38</td>\n      <td>False</td>\n      <td>16 min. per ep.</td>\n      <td>8.21</td>\n      <td>307.0</td>\n      <td>916</td>\n      <td>Comedy, Drama, Magic, Romance, Fantasy</td>\n    </tr>\n    <tr>\n      <th>4</th>\n      <td>TV</td>\n      <td>Manga</td>\n      <td>25</td>\n      <td>False</td>\n      <td>24 min. per ep.</td>\n      <td>8.67</td>\n      <td>50.0</td>\n      <td>426</td>\n      <td>Comedy, Drama, Romance, Shounen</td>\n    </tr>\n  </tbody>\n</table>\n</div>"
     },
     "execution_count": 415,
     "metadata": {},
     "output_type": "execute_result"
    }
   ],
   "source": [
    "features = [\"type\",\"source\",\"episodes\",\"airing\",\"duration\",\"score\",\"rank\",\"popularity\",\"genre\"]\n",
    "df_X = df[features]\n",
    "df_X.head()"
   ]
  },
  {
   "cell_type": "code",
   "execution_count": 416,
   "metadata": {
    "pycharm": {
     "name": "#%%\n"
    }
   },
   "outputs": [
    {
     "data": {
      "text/plain": "(14478, 9)"
     },
     "execution_count": 416,
     "metadata": {},
     "output_type": "execute_result"
    }
   ],
   "source": [
    "df_X.shape"
   ]
  },
  {
   "cell_type": "code",
   "execution_count": 417,
   "metadata": {
    "pycharm": {
     "name": "#%%\n"
    }
   },
   "outputs": [
    {
     "data": {
      "text/plain": "(12848, 9)"
     },
     "execution_count": 417,
     "metadata": {},
     "output_type": "execute_result"
    }
   ],
   "source": [
    "df_X = df_X.dropna()\n",
    "df_X.shape"
   ]
  },
  {
   "cell_type": "code",
   "execution_count": 418,
   "metadata": {
    "pycharm": {
     "name": "#%%\n"
    }
   },
   "outputs": [
    {
     "data": {
      "text/plain": "(12724, 9)"
     },
     "execution_count": 418,
     "metadata": {},
     "output_type": "execute_result"
    }
   ],
   "source": [
    "df_X = df_X[df_X.duration != \"Unknown\"]\n",
    "df_X.shape"
   ]
  },
  {
   "cell_type": "code",
   "execution_count": 419,
   "metadata": {
    "pycharm": {
     "name": "#%%\n"
    }
   },
   "outputs": [
    {
     "data": {
      "text/plain": "(12724, 9)"
     },
     "execution_count": 419,
     "metadata": {},
     "output_type": "execute_result"
    }
   ],
   "source": [
    "df_X = df_X[df_X.type != \"Unknown\"]\n",
    "df_X.shape"
   ]
  },
  {
   "cell_type": "markdown",
   "source": [
    "La dimensionalidad se redujo a 9 atributos, como era de esperarse. Realizando la limpieza de valores nulos la cantidad resultante de filas se redujo a 12.724. Teniendo esto, procedemos a hacer una exploración visual de los datos."
   ],
   "metadata": {
    "collapsed": false,
    "pycharm": {
     "name": "#%% md\n"
    }
   }
  },
  {
   "cell_type": "markdown",
   "source": [
    "**Type**"
   ],
   "metadata": {
    "collapsed": false,
    "pycharm": {
     "name": "#%% md\n"
    }
   }
  },
  {
   "cell_type": "code",
   "execution_count": 443,
   "outputs": [
    {
     "data": {
      "text/plain": "<AxesSubplot:>"
     },
     "execution_count": 443,
     "metadata": {},
     "output_type": "execute_result"
    },
    {
     "data": {
      "text/plain": "<Figure size 720x360 with 1 Axes>",
      "image/png": "[encoded data removed]"
     },
     "metadata": {
      "needs_background": "light"
     },
     "output_type": "display_data"
    }
   ],
   "source": [
    "fig = plt.figure(figsize = (10, 5))\n",
    "df_X['type'].hist()"
   ],
   "metadata": {
    "collapsed": false,
    "pycharm": {
     "name": "#%%\n"
    }
   }
  },
  {
   "cell_type": "markdown",
   "source": [
    "Vemos que la mayor cantidad de animes vienen de origen TV."
   ],
   "metadata": {
    "collapsed": false,
    "pycharm": {
     "name": "#%% md\n"
    }
   }
  },
  {
   "cell_type": "markdown",
   "source": [
    "**Source**"
   ],
   "metadata": {
    "collapsed": false,
    "pycharm": {
     "name": "#%% md\n"
    }
   }
  },
  {
   "cell_type": "code",
   "execution_count": 434,
   "metadata": {
    "pycharm": {
     "name": "#%%\n"
    }
   },
   "outputs": [
    {
     "data": {
      "text/plain": "<AxesSubplot:xlabel='episodes', ylabel='popularity'>"
     },
     "execution_count": 434,
     "metadata": {},
     "output_type": "execute_result"
    },
    {
     "data": {
      "text/plain": "<Figure size 720x360 with 0 Axes>"
     },
     "metadata": {},
     "output_type": "display_data"
    },
    {
     "data": {
      "text/plain": "<Figure size 432x288 with 1 Axes>",
      "image/png": "[encoded data removed]"
     },
     "metadata": {
      "needs_background": "light"
     },
     "output_type": "display_data"
    }
   ],
   "source": [
    "fig = plt.figure(figsize = (10, 5))\n",
    "df_X.plot.scatter(x='episodes', y='popularity')"
   ]
  },
  {
   "cell_type": "markdown",
   "source": [
    "Los animes más populares se concentran entre 0 y 125 episodios."
   ],
   "metadata": {
    "collapsed": false,
    "pycharm": {
     "name": "#%% md\n"
    }
   }
  },
  {
   "cell_type": "markdown",
   "source": [
    "**Score**"
   ],
   "metadata": {
    "collapsed": false,
    "pycharm": {
     "name": "#%% md\n"
    }
   }
  },
  {
   "cell_type": "code",
   "execution_count": 442,
   "outputs": [
    {
     "data": {
      "text/plain": "<AxesSubplot:>"
     },
     "execution_count": 442,
     "metadata": {},
     "output_type": "execute_result"
    },
    {
     "data": {
      "text/plain": "<Figure size 720x360 with 1 Axes>",
      "image/png": "[encoded data removed]"
     },
     "metadata": {
      "needs_background": "light"
     },
     "output_type": "display_data"
    }
   ],
   "source": [
    "fig = plt.figure(figsize = (10, 5))\n",
    "df_X['score'].hist()"
   ],
   "metadata": {
    "collapsed": false,
    "pycharm": {
     "name": "#%%\n"
    }
   }
  },
  {
   "cell_type": "markdown",
   "source": [
    "La distribución del score o puntaje se agrupa entre los valores 5 y 7."
   ],
   "metadata": {
    "collapsed": false,
    "pycharm": {
     "name": "#%% md\n"
    }
   }
  },
  {
   "cell_type": "markdown",
   "source": [
    "# Preguntas y problemas\n",
    "\n",
    "Teniendo en cuenta los resultados anteriores es menester preguntarnos si podemos predecir algún atributo a partir de otros. Como por ejemplo si un nuevo anime será popular o tendrá mejor ranking en comparación a otros. Por lo que se establece como meta:\n",
    "1. Predecir el ranking de un anime según su género, popularidad y cantidad de capitulos.\n",
    "2. Clasificar el tipo segun la fuente y la cantidad de episodios"
   ],
   "metadata": {
    "collapsed": false,
    "pycharm": {
     "name": "#%% md\n"
    }
   }
  },
  {
   "cell_type": "markdown",
   "source": [
    "# Propuesta y aplicacion de la tecnica de mineria de datos"
   ],
   "metadata": {
    "collapsed": false,
    "pycharm": {
     "name": "#%% md\n"
    }
   }
  },
  {
   "cell_type": "markdown",
   "source": [
    "El primer problema planteado es de predicción o regresión numérico del ranking basado en género, popularidad y cantidad de capítulos.\n",
    "Se implementará un modelo de clasificación supervisada.\n",
    "\n",
    "En cuanto a los modelos que se probarán en el dataset, se optará por\n",
    "- Árbol de decisión: Analiza atributos cualitativos y cuantitativos para lograr la clasificación.\n",
    "- Clústering\n"
   ],
   "metadata": {
    "collapsed": false,
    "pycharm": {
     "name": "#%% md\n"
    }
   }
  },
  {
   "cell_type": "markdown",
   "metadata": {
    "pycharm": {
     "name": "#%% md\n"
    }
   },
   "source": [
    "## Pregunta 1 Tree Decision"
   ]
  },
  {
   "cell_type": "markdown",
   "metadata": {
    "pycharm": {
     "name": "#%% md\n"
    }
   },
   "source": [
    "**Calcular el ranking de un anime según su genero, popularidad y cantidad de capitulos**"
   ]
  },
  {
   "cell_type": "code",
   "execution_count": 396,
   "metadata": {
    "pycharm": {
     "name": "#%%\n"
    }
   },
   "outputs": [
    {
     "name": "stderr",
     "output_type": "stream",
     "text": [
      "C:\\Users\\rferm\\AppData\\Local\\Temp\\ipykernel_8996\\4198901741.py:4: SettingWithCopyWarning:\n",
      "\n",
      "\n",
      "A value is trying to be set on a copy of a slice from a DataFrame\n",
      "\n",
      "See the caveats in the documentation: https://pandas.pydata.org/pandas-docs/stable/user_guide/indexing.html#returning-a-view-versus-a-copy\n",
      "\n"
     ]
    }
   ],
   "source": [
    "from sklearn.tree import DecisionTreeClassifier\n",
    "data_List=[\"genre\",\"popularity\",\"episodes\",\"rank\"]\n",
    "data_question1= df[data_List]\n",
    "data_question1.dropna(inplace=True)"
   ]
  },
  {
   "cell_type": "code",
   "execution_count": 397,
   "metadata": {
    "pycharm": {
     "name": "#%%\n"
    }
   },
   "outputs": [],
   "source": [
    "variable_objetiva= data_question1[\"rank\"]\n",
    "data_question1= data_question1.drop(columns=[\"rank\"])"
   ]
  },
  {
   "cell_type": "code",
   "execution_count": 398,
   "metadata": {
    "pycharm": {
     "name": "#%%\n"
    }
   },
   "outputs": [
    {
     "name": "stdout",
     "output_type": "stream",
     "text": [
      "41\n"
     ]
    }
   ],
   "source": [
    "import matplotlib.pyplot as plt\n",
    "from sklearn import preprocessing\n",
    "import seaborn as sns\n",
    "%matplotlib inline\n",
    "\n",
    "\n",
    "from numpy import nan\n",
    "genere_map = {}\n",
    "genereList = []\n",
    "for gener in data_question1[\"genre\"]:\n",
    "    if type(gener) != float:\n",
    "        g = gener.split(',')\n",
    "        for g1 in g:\n",
    "            g1 = g1.strip().lower()\n",
    "            if g1 in genere_map:\n",
    "                genere_map[g1]+=1\n",
    "            else:\n",
    "                genere_map[g1] = 1\n",
    "\n",
    "for gener in data_question1[\"genre\"]:\n",
    "    if type(gener) != float:\n",
    "        g = gener.split(',')\n",
    "        for g1 in g:\n",
    "            g1 = g1.strip()\n",
    "            if g1 not in genereList:\n",
    "                genereList.append(g1)\n",
    "print(len(genereList))"
   ]
  },
  {
   "cell_type": "code",
   "execution_count": 399,
   "metadata": {
    "pycharm": {
     "name": "#%%\n"
    }
   },
   "outputs": [],
   "source": [
    "genre_dict={k: v for k, v in sorted(genere_map.items(), key=lambda item: item[1])}\n",
    "genre_dict\n",
    "\n",
    "pieLabels=[\"%s\" % key for key in genre_dict]\n",
    "pieValues=[\"%d\" % genre_dict[key] for key in genre_dict]\n",
    "\n",
    "for g in genereList:\n",
    "      data_question1[g]=data_question1['genre'].apply(lambda x: (1 if g in x else 0) if type(x)!=float else 0 )\n",
    "data_question1 = data_question1.drop(columns=['genre'])"
   ]
  },
  {
   "cell_type": "code",
   "execution_count": 400,
   "metadata": {
    "pycharm": {
     "name": "#%%\n"
    }
   },
   "outputs": [
    {
     "data": {
      "text/plain": "       popularity  episodes  Comedy  Supernatural  Romance  Shounen  Parody  \\\n0             231        12       1             1        1        1       0   \n1             366        26       1             0        1        1       1   \n2            1173        51       1             0        0        0       0   \n3             916        38       1             0        1        0       0   \n4             426        25       1             0        1        1       0   \n...           ...       ...     ...           ...      ...      ...     ...   \n14472       14204         1       0             0        0        0       0   \n14473       13598         5       0             0        0        0       0   \n14474       13284         1       1             0        0        0       0   \n14476       14334         1       0             0        0        0       0   \n14477        9767         1       1             0        0        0       0   \n\n       School  Magic  Shoujo  ...  Mecha  Psychological  Police  Vampire  \\\n0           0      0       0  ...      0              0       0        0   \n1           1      0       0  ...      0              0       0        0   \n2           1      1       1  ...      0              0       0        0   \n3           0      1       0  ...      0              0       0        0   \n4           0      0       0  ...      0              0       0        0   \n...       ...    ...     ...  ...    ...            ...     ...      ...   \n14472       0      0       0  ...      0              0       0        0   \n14473       0      0       0  ...      0              0       0        0   \n14474       0      0       0  ...      0              0       0        0   \n14476       0      0       0  ...      0              0       0        0   \n14477       0      0       0  ...      0              0       0        0   \n\n       Military  Thriller  Cars  Shoujo Ai  Dementia  Hentai  \n0             0         0     0          0         0       0  \n1             0         0     0          0         0       0  \n2             0         0     0          0         0       0  \n3             0         0     0          0         0       0  \n4             0         0     0          0         0       0  \n...         ...       ...   ...        ...       ...     ...  \n14472         0         0     0          0         0       0  \n14473         0         0     0          0         0       0  \n14474         0         0     0          0         0       0  \n14476         0         0     0          0         0       0  \n14477         0         0     0          0         0       0  \n\n[12848 rows x 43 columns]",
      "text/html": "<div>\n<style scoped>\n    .dataframe tbody tr th:only-of-type {\n        vertical-align: middle;\n    }\n\n    .dataframe tbody tr th {\n        vertical-align: top;\n    }\n\n    .dataframe thead th {\n        text-align: right;\n    }\n</style>\n<table border=\"1\" class=\"dataframe\">\n  <thead>\n    <tr style=\"text-align: right;\">\n      <th></th>\n      <th>popularity</th>\n      <th>episodes</th>\n      <th>Comedy</th>\n      <th>Supernatural</th>\n      <th>Romance</th>\n      <th>Shounen</th>\n      <th>Parody</th>\n      <th>School</th>\n      <th>Magic</th>\n      <th>Shoujo</th>\n      <th>...</th>\n      <th>Mecha</th>\n      <th>Psychological</th>\n      <th>Police</th>\n      <th>Vampire</th>\n      <th>Military</th>\n      <th>Thriller</th>\n      <th>Cars</th>\n      <th>Shoujo Ai</th>\n      <th>Dementia</th>\n      <th>Hentai</th>\n    </tr>\n  </thead>\n  <tbody>\n    <tr>\n      <th>0</th>\n      <td>231</td>\n      <td>12</td>\n      <td>1</td>\n      <td>1</td>\n      <td>1</td>\n      <td>1</td>\n      <td>0</td>\n      <td>0</td>\n      <td>0</td>\n      <td>0</td>\n      <td>...</td>\n      <td>0</td>\n      <td>0</td>\n      <td>0</td>\n      <td>0</td>\n      <td>0</td>\n      <td>0</td>\n      <td>0</td>\n      <td>0</td>\n      <td>0</td>\n      <td>0</td>\n    </tr>\n    <tr>\n      <th>1</th>\n      <td>366</td>\n      <td>26</td>\n      <td>1</td>\n      <td>0</td>\n      <td>1</td>\n      <td>1</td>\n      <td>1</td>\n      <td>1</td>\n      <td>0</td>\n      <td>0</td>\n      <td>...</td>\n      <td>0</td>\n      <td>0</td>\n      <td>0</td>\n      <td>0</td>\n      <td>0</td>\n      <td>0</td>\n      <td>0</td>\n      <td>0</td>\n      <td>0</td>\n      <td>0</td>\n    </tr>\n    <tr>\n      <th>2</th>\n      <td>1173</td>\n      <td>51</td>\n      <td>1</td>\n      <td>0</td>\n      <td>0</td>\n      <td>0</td>\n      <td>0</td>\n      <td>1</td>\n      <td>1</td>\n      <td>1</td>\n      <td>...</td>\n      <td>0</td>\n      <td>0</td>\n      <td>0</td>\n      <td>0</td>\n      <td>0</td>\n      <td>0</td>\n      <td>0</td>\n      <td>0</td>\n      <td>0</td>\n      <td>0</td>\n    </tr>\n    <tr>\n      <th>3</th>\n      <td>916</td>\n      <td>38</td>\n      <td>1</td>\n      <td>0</td>\n      <td>1</td>\n      <td>0</td>\n      <td>0</td>\n      <td>0</td>\n      <td>1</td>\n      <td>0</td>\n      <td>...</td>\n      <td>0</td>\n      <td>0</td>\n      <td>0</td>\n      <td>0</td>\n      <td>0</td>\n      <td>0</td>\n      <td>0</td>\n      <td>0</td>\n      <td>0</td>\n      <td>0</td>\n    </tr>\n    <tr>\n      <th>4</th>\n      <td>426</td>\n      <td>25</td>\n      <td>1</td>\n      <td>0</td>\n      <td>1</td>\n      <td>1</td>\n      <td>0</td>\n      <td>0</td>\n      <td>0</td>\n      <td>0</td>\n      <td>...</td>\n      <td>0</td>\n      <td>0</td>\n      <td>0</td>\n      <td>0</td>\n      <td>0</td>\n      <td>0</td>\n      <td>0</td>\n      <td>0</td>\n      <td>0</td>\n      <td>0</td>\n    </tr>\n    <tr>\n      <th>...</th>\n      <td>...</td>\n      <td>...</td>\n      <td>...</td>\n      <td>...</td>\n      <td>...</td>\n      <td>...</td>\n      <td>...</td>\n      <td>...</td>\n      <td>...</td>\n      <td>...</td>\n      <td>...</td>\n      <td>...</td>\n      <td>...</td>\n      <td>...</td>\n      <td>...</td>\n      <td>...</td>\n      <td>...</td>\n      <td>...</td>\n      <td>...</td>\n      <td>...</td>\n      <td>...</td>\n    </tr>\n    <tr>\n      <th>14472</th>\n      <td>14204</td>\n      <td>1</td>\n      <td>0</td>\n      <td>0</td>\n      <td>0</td>\n      <td>0</td>\n      <td>0</td>\n      <td>0</td>\n      <td>0</td>\n      <td>0</td>\n      <td>...</td>\n      <td>0</td>\n      <td>0</td>\n      <td>0</td>\n      <td>0</td>\n      <td>0</td>\n      <td>0</td>\n      <td>0</td>\n      <td>0</td>\n      <td>0</td>\n      <td>0</td>\n    </tr>\n    <tr>\n      <th>14473</th>\n      <td>13598</td>\n      <td>5</td>\n      <td>0</td>\n      <td>0</td>\n      <td>0</td>\n      <td>0</td>\n      <td>0</td>\n      <td>0</td>\n      <td>0</td>\n      <td>0</td>\n      <td>...</td>\n      <td>0</td>\n      <td>0</td>\n      <td>0</td>\n      <td>0</td>\n      <td>0</td>\n      <td>0</td>\n      <td>0</td>\n      <td>0</td>\n      <td>0</td>\n      <td>0</td>\n    </tr>\n    <tr>\n      <th>14474</th>\n      <td>13284</td>\n      <td>1</td>\n      <td>1</td>\n      <td>0</td>\n      <td>0</td>\n      <td>0</td>\n      <td>0</td>\n      <td>0</td>\n      <td>0</td>\n      <td>0</td>\n      <td>...</td>\n      <td>0</td>\n      <td>0</td>\n      <td>0</td>\n      <td>0</td>\n      <td>0</td>\n      <td>0</td>\n      <td>0</td>\n      <td>0</td>\n      <td>0</td>\n      <td>0</td>\n    </tr>\n    <tr>\n      <th>14476</th>\n      <td>14334</td>\n      <td>1</td>\n      <td>0</td>\n      <td>0</td>\n      <td>0</td>\n      <td>0</td>\n      <td>0</td>\n      <td>0</td>\n      <td>0</td>\n      <td>0</td>\n      <td>...</td>\n      <td>0</td>\n      <td>0</td>\n      <td>0</td>\n      <td>0</td>\n      <td>0</td>\n      <td>0</td>\n      <td>0</td>\n      <td>0</td>\n      <td>0</td>\n      <td>0</td>\n    </tr>\n    <tr>\n      <th>14477</th>\n      <td>9767</td>\n      <td>1</td>\n      <td>1</td>\n      <td>0</td>\n      <td>0</td>\n      <td>0</td>\n      <td>0</td>\n      <td>0</td>\n      <td>0</td>\n      <td>0</td>\n      <td>...</td>\n      <td>0</td>\n      <td>0</td>\n      <td>0</td>\n      <td>0</td>\n      <td>0</td>\n      <td>0</td>\n      <td>0</td>\n      <td>0</td>\n      <td>0</td>\n      <td>0</td>\n    </tr>\n  </tbody>\n</table>\n<p>12848 rows × 43 columns</p>\n</div>"
     },
     "execution_count": 400,
     "metadata": {},
     "output_type": "execute_result"
    }
   ],
   "source": [
    "data_question1"
   ]
  },
  {
   "cell_type": "code",
   "execution_count": 401,
   "metadata": {
    "pycharm": {
     "name": "#%%\n"
    }
   },
   "outputs": [],
   "source": [
    "X= data_question1\n",
    "y=variable_objetiva\n",
    "train_X, val_X, train_y, val_y = train_test_split(X, y, test_size = 0.2, random_state = 0)"
   ]
  },
  {
   "cell_type": "code",
   "execution_count": 402,
   "metadata": {
    "pycharm": {
     "name": "#%%\n"
    }
   },
   "outputs": [],
   "source": [
    "# Define model\n",
    "model = DecisionTreeRegressor()\n",
    "# Fit model\n",
    "model.fit(train_X, train_y)\n",
    "\n",
    "val_predictions = model.predict(val_X)\n",
    "MAE_DT = mean_absolute_error(val_y, val_predictions)"
   ]
  },
  {
   "cell_type": "code",
   "execution_count": 403,
   "metadata": {
    "pycharm": {
     "name": "#%%\n"
    }
   },
   "outputs": [
    {
     "name": "stdout",
     "output_type": "stream",
     "text": [
      "Model MAE:  1649.2433852140077\n",
      "Profundidad del árbol: 54\n",
      "Número de nodos terminales: 10256\n"
     ]
    },
    {
     "data": {
      "text/plain": "\"\\nplot = plot_tree(\\n            decision_tree = model,\\n            feature_names = X.columns,\\n            class_names   = 'MEDV',\\n            filled        = True,\\n            impurity      = False,\\n            fontsize      = 10,\\n            precision     = 2,\\n            ax            = ax\\n       )\\n\""
     },
     "execution_count": 403,
     "metadata": {},
     "output_type": "execute_result"
    },
    {
     "data": {
      "text/plain": "<Figure size 864x360 with 1 Axes>",
      "image/png": "[encoded data removed]"
     },
     "metadata": {
      "needs_background": "light"
     },
     "output_type": "display_data"
    }
   ],
   "source": [
    "from sklearn.metrics import classification_report\n",
    "from sklearn.tree import plot_tree\n",
    "\n",
    "print(\"Model MAE: \", mean_absolute_error(val_y, val_predictions))\n",
    "#print(classification_report(val_y, val_predictions))\n",
    "\n",
    "fig, ax = plt.subplots(figsize=(12, 5))\n",
    "\n",
    "print(f\"Profundidad del árbol: {model.get_depth()}\")\n",
    "print(f\"Número de nodos terminales: {model.get_n_leaves()}\")\n",
    "\"\"\"\n",
    "plot = plot_tree(\n",
    "            decision_tree = model,\n",
    "            feature_names = X.columns,\n",
    "            class_names   = 'MEDV',\n",
    "            filled        = True,\n",
    "            impurity      = False,\n",
    "            fontsize      = 10,\n",
    "            precision     = 2,\n",
    "            ax            = ax\n",
    "       )\n",
    "\"\"\""
   ]
  },
  {
   "cell_type": "code",
   "execution_count": 404,
   "metadata": {
    "pycharm": {
     "name": "#%%\n"
    }
   },
   "outputs": [
    {
     "data": {
      "text/plain": "       Original  Predictions  difference\n13122     367.0        274.0        93.0\n9322     7050.0       8118.0      1068.0\n12754    8552.0       6257.0      2295.0\n1373    11005.0       9811.0      1194.0\n9370     6946.0       3246.0      3700.0\n...         ...          ...         ...\n13886   11397.0      11398.0         1.0\n7352    12195.0      12608.0       413.0\n8692     9373.0       6863.0      2510.0\n908      2087.0       2371.0       284.0\n8862     4666.0       8173.0      3507.0\n\n[2570 rows x 3 columns]",
      "text/html": "<div>\n<style scoped>\n    .dataframe tbody tr th:only-of-type {\n        vertical-align: middle;\n    }\n\n    .dataframe tbody tr th {\n        vertical-align: top;\n    }\n\n    .dataframe thead th {\n        text-align: right;\n    }\n</style>\n<table border=\"1\" class=\"dataframe\">\n  <thead>\n    <tr style=\"text-align: right;\">\n      <th></th>\n      <th>Original</th>\n      <th>Predictions</th>\n      <th>difference</th>\n    </tr>\n  </thead>\n  <tbody>\n    <tr>\n      <th>13122</th>\n      <td>367.0</td>\n      <td>274.0</td>\n      <td>93.0</td>\n    </tr>\n    <tr>\n      <th>9322</th>\n      <td>7050.0</td>\n      <td>8118.0</td>\n      <td>1068.0</td>\n    </tr>\n    <tr>\n      <th>12754</th>\n      <td>8552.0</td>\n      <td>6257.0</td>\n      <td>2295.0</td>\n    </tr>\n    <tr>\n      <th>1373</th>\n      <td>11005.0</td>\n      <td>9811.0</td>\n      <td>1194.0</td>\n    </tr>\n    <tr>\n      <th>9370</th>\n      <td>6946.0</td>\n      <td>3246.0</td>\n      <td>3700.0</td>\n    </tr>\n    <tr>\n      <th>...</th>\n      <td>...</td>\n      <td>...</td>\n      <td>...</td>\n    </tr>\n    <tr>\n      <th>13886</th>\n      <td>11397.0</td>\n      <td>11398.0</td>\n      <td>1.0</td>\n    </tr>\n    <tr>\n      <th>7352</th>\n      <td>12195.0</td>\n      <td>12608.0</td>\n      <td>413.0</td>\n    </tr>\n    <tr>\n      <th>8692</th>\n      <td>9373.0</td>\n      <td>6863.0</td>\n      <td>2510.0</td>\n    </tr>\n    <tr>\n      <th>908</th>\n      <td>2087.0</td>\n      <td>2371.0</td>\n      <td>284.0</td>\n    </tr>\n    <tr>\n      <th>8862</th>\n      <td>4666.0</td>\n      <td>8173.0</td>\n      <td>3507.0</td>\n    </tr>\n  </tbody>\n</table>\n<p>2570 rows × 3 columns</p>\n</div>"
     },
     "execution_count": 404,
     "metadata": {},
     "output_type": "execute_result"
    }
   ],
   "source": [
    "results = pd.DataFrame({'Original': val_y, 'Predictions':val_predictions, 'difference': [abs(x1 - x2) for (x1, x2) in zip(val_y, val_predictions)]})\n",
    "results"
   ]
  },
  {
   "cell_type": "markdown",
   "source": [
    "## Pregunta 2 Clustering"
   ],
   "metadata": {
    "collapsed": false,
    "pycharm": {
     "name": "#%% md\n"
    }
   }
  },
  {
   "cell_type": "code",
   "execution_count": 405,
   "outputs": [
    {
     "name": "stderr",
     "output_type": "stream",
     "text": [
      "C:\\Users\\rferm\\AppData\\Local\\Temp\\ipykernel_8996\\3617224673.py:3: SettingWithCopyWarning:\n",
      "\n",
      "\n",
      "A value is trying to be set on a copy of a slice from a DataFrame\n",
      "\n",
      "See the caveats in the documentation: https://pandas.pydata.org/pandas-docs/stable/user_guide/indexing.html#returning-a-view-versus-a-copy\n",
      "\n"
     ]
    },
    {
     "data": {
      "text/plain": "  type  episodes  4-koma manga  Book  Card game  Digital manga  Game  \\\n0   TV        12             0     0          0              0     0   \n1   TV        26             0     0          0              0     0   \n2   TV        51             0     0          0              0     0   \n3   TV        38             0     0          0              0     0   \n4   TV        25             0     0          0              0     0   \n\n   Light novel  Manga  Music  Novel  Original  Other  Picture book  Radio  \\\n0            0      1      0      0         0      0             0      0   \n1            0      1      0      0         0      0             0      0   \n2            0      1      0      0         0      0             0      0   \n3            0      0      0      0         1      0             0      0   \n4            0      1      0      0         0      0             0      0   \n\n   Unknown  Visual novel  Web manga  \n0        0             0          0  \n1        0             0          0  \n2        0             0          0  \n3        0             0          0  \n4        0             0          0  ",
      "text/html": "<div>\n<style scoped>\n    .dataframe tbody tr th:only-of-type {\n        vertical-align: middle;\n    }\n\n    .dataframe tbody tr th {\n        vertical-align: top;\n    }\n\n    .dataframe thead th {\n        text-align: right;\n    }\n</style>\n<table border=\"1\" class=\"dataframe\">\n  <thead>\n    <tr style=\"text-align: right;\">\n      <th></th>\n      <th>type</th>\n      <th>episodes</th>\n      <th>4-koma manga</th>\n      <th>Book</th>\n      <th>Card game</th>\n      <th>Digital manga</th>\n      <th>Game</th>\n      <th>Light novel</th>\n      <th>Manga</th>\n      <th>Music</th>\n      <th>Novel</th>\n      <th>Original</th>\n      <th>Other</th>\n      <th>Picture book</th>\n      <th>Radio</th>\n      <th>Unknown</th>\n      <th>Visual novel</th>\n      <th>Web manga</th>\n    </tr>\n  </thead>\n  <tbody>\n    <tr>\n      <th>0</th>\n      <td>TV</td>\n      <td>12</td>\n      <td>0</td>\n      <td>0</td>\n      <td>0</td>\n      <td>0</td>\n      <td>0</td>\n      <td>0</td>\n      <td>1</td>\n      <td>0</td>\n      <td>0</td>\n      <td>0</td>\n      <td>0</td>\n      <td>0</td>\n      <td>0</td>\n      <td>0</td>\n      <td>0</td>\n      <td>0</td>\n    </tr>\n    <tr>\n      <th>1</th>\n      <td>TV</td>\n      <td>26</td>\n      <td>0</td>\n      <td>0</td>\n      <td>0</td>\n      <td>0</td>\n      <td>0</td>\n      <td>0</td>\n      <td>1</td>\n      <td>0</td>\n      <td>0</td>\n      <td>0</td>\n      <td>0</td>\n      <td>0</td>\n      <td>0</td>\n      <td>0</td>\n      <td>0</td>\n      <td>0</td>\n    </tr>\n    <tr>\n      <th>2</th>\n      <td>TV</td>\n      <td>51</td>\n      <td>0</td>\n      <td>0</td>\n      <td>0</td>\n      <td>0</td>\n      <td>0</td>\n      <td>0</td>\n      <td>1</td>\n      <td>0</td>\n      <td>0</td>\n      <td>0</td>\n      <td>0</td>\n      <td>0</td>\n      <td>0</td>\n      <td>0</td>\n      <td>0</td>\n      <td>0</td>\n    </tr>\n    <tr>\n      <th>3</th>\n      <td>TV</td>\n      <td>38</td>\n      <td>0</td>\n      <td>0</td>\n      <td>0</td>\n      <td>0</td>\n      <td>0</td>\n      <td>0</td>\n      <td>0</td>\n      <td>0</td>\n      <td>0</td>\n      <td>1</td>\n      <td>0</td>\n      <td>0</td>\n      <td>0</td>\n      <td>0</td>\n      <td>0</td>\n      <td>0</td>\n    </tr>\n    <tr>\n      <th>4</th>\n      <td>TV</td>\n      <td>25</td>\n      <td>0</td>\n      <td>0</td>\n      <td>0</td>\n      <td>0</td>\n      <td>0</td>\n      <td>0</td>\n      <td>1</td>\n      <td>0</td>\n      <td>0</td>\n      <td>0</td>\n      <td>0</td>\n      <td>0</td>\n      <td>0</td>\n      <td>0</td>\n      <td>0</td>\n      <td>0</td>\n    </tr>\n  </tbody>\n</table>\n</div>"
     },
     "execution_count": 405,
     "metadata": {},
     "output_type": "execute_result"
    }
   ],
   "source": [
    "df_feature=[\"type\",\"source\",\"episodes\"]\n",
    "data_question2=df[df_feature]\n",
    "data_question2.dropna(inplace= True)\n",
    "variable_objetiva2=data_question2[\"type\"]\n",
    "\n",
    "dummies2=pd.get_dummies(data_question2[\"source\"])\n",
    "data_question2=pd.concat([data_question2,dummies2],axis=1)\n",
    "data_question2=data_question2.drop(columns=[\"source\"])\n",
    "\n",
    "data_question2.head()"
   ],
   "metadata": {
    "collapsed": false,
    "pycharm": {
     "name": "#%%\n"
    }
   }
  },
  {
   "cell_type": "code",
   "execution_count": 406,
   "outputs": [],
   "source": [
    "X2= data_question2\n",
    "y2= variable_objetiva2\n",
    "\n",
    "train_X2, val_X2, train_y2, val_y2 = train_test_split(X2, y2, test_size = 0.2, random_state = 0)"
   ],
   "metadata": {
    "collapsed": false,
    "pycharm": {
     "name": "#%%\n"
    }
   }
  },
  {
   "cell_type": "code",
   "execution_count": 407,
   "outputs": [
    {
     "data": {
      "text/plain": "<Figure size 432x288 with 1 Axes>",
      "image/png": "[encoded data removed]"
     },
     "metadata": {
      "needs_background": "light"
     },
     "output_type": "display_data"
    }
   ],
   "source": [
    "from sklearn.cluster import KMeans\n",
    "import matplotlib.pyplot as plt\n",
    "\n",
    "sse=[]\n",
    "\n",
    "clusters=list(range(1,16))\n",
    "for k in clusters:\n",
    "    kmeans = KMeans(n_clusters=k).fit(X)\n",
    "    sse.append(kmeans.inertia_)\n",
    "\n",
    "plt.plot(clusters, sse, marker=\"o\")\n",
    "plt.title(\"Metodo del codo de 1 a 15 clusters\")\n",
    "plt.grid(True)\n",
    "plt.show()"
   ],
   "metadata": {
    "collapsed": false,
    "pycharm": {
     "name": "#%%\n"
    }
   }
  },
  {
   "cell_type": "code",
   "execution_count": 408,
   "outputs": [
    {
     "data": {
      "text/plain": "<Figure size 432x288 with 1 Axes>",
      "image/png": "[encoded data removed]"
     },
     "metadata": {
      "needs_background": "light"
     },
     "output_type": "display_data"
    }
   ],
   "source": [
    "random_state = 20\n",
    "kmeans = KMeans(n_clusters=3, random_state=random_state).fit(X)\n",
    "\n",
    "\n",
    "plt.scatter(X.iloc[:, 0], X.iloc[:, 1], c=kmeans.labels_)\n",
    "plt.title(\"K-Means\")\n",
    "plt.show()"
   ],
   "metadata": {
    "collapsed": false,
    "pycharm": {
     "name": "#%%\n"
    }
   }
  },
  {
   "cell_type": "markdown",
   "source": [
    "# Conclusiones\n",
    "\n",
    "Como es un proyecto que tuvo 3 etapas, al comienzo decidimos optar por el dataset myanimelist, ya que, es un tema que los tres lo manejamos relativamente bien, en cuanto a vocabulario y series. Al ir avanzando en la exploración de los datos estuvimos un tanto perdidos el como trabajarlo, por lo que recurrimos a un compañero quien nosotros consideramos que es un experto en este tema, teniendo conversaciones para aclarar el caso del cómo poder trabarlo, llegando así a la conclusión de trabajarlo con árbol de decisión y realizar clustering"
   ],
   "metadata": {
    "collapsed": false,
    "pycharm": {
     "name": "#%% md\n"
    }
   }
  },
  {
   "cell_type": "markdown",
   "metadata": {
    "pycharm": {
     "name": "#%% md\n"
    }
   },
   "source": [
    "# Contribuciones"
   ]
  },
  {
   "cell_type": "markdown",
   "metadata": {
    "pycharm": {
     "name": "#%% md\n"
    }
   },
   "source": [
    "- Fernando Martínez: Exploración de datos y aplicación de técnica.\n",
    "- Luz Pichintines: Motivación y preguntas.\n",
    "- Camila Muñoz: Propuesta experimental y aplicación de técnica."
   ]
  },
  {
   "cell_type": "markdown",
   "metadata": {
    "pycharm": {
     "name": "#%% md\n"
    }
   },
   "source": [
    "# Referencias\n",
    "\n",
    "Datos, E. M. D. L. (2021, 17 enero). Técnicas para codificar las variables categóricas (I): codificación ordinal y one-hot. El mundo de los datos. https://elmundodelosdatos.com/tecnicas-para-codificar-variables-categoricas-ordinal-one-hot/\n",
    "\n",
    "Joshi, S. (2022). Función Pandas DataFrame DataFrame.boxplot(). Retrieved 30 June 2022, from https://www.delftstack.com/es/api/python-pandas/pandas-dataframe-dataframe.boxplot-function/\n",
    "Delft Stack"
   ]
  },
  {
   "cell_type": "markdown",
   "source": [
    "### Repositorio\n",
    "https://gitlab.com/f.martinez09/proyecto-mal"
   ],
   "metadata": {
    "collapsed": false,
    "pycharm": {
     "name": "#%% md\n"
    }
   }
  },
  {
   "cell_type": "code",
   "execution_count": null,
   "outputs": [],
   "source": [],
   "metadata": {
    "collapsed": false,
    "pycharm": {
     "name": "#%%\n"
    }
   }
  }
 ],
 "metadata": {
  "kernelspec": {
   "display_name": "Python 3 (ipykernel)",
   "language": "python",
   "name": "python3"
  },
  "language_info": {
   "codemirror_mode": {
    "name": "ipython",
    "version": 3
   },
   "file_extension": ".py",
   "mimetype": "text/x-python",
   "name": "python",
   "nbconvert_exporter": "python",
   "pygments_lexer": "ipython3",
   "version": "3.10.4"
  }
 },
 "nbformat": 4,
 "nbformat_minor": 1
}